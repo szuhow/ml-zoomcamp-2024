{
 "cells": [
  {
   "cell_type": "markdown",
   "id": "714bdea7",
   "metadata": {},
   "source": [
    "**Function Description:**"
   ]
  },
  {
   "cell_type": "code",
   "execution_count": 2,
   "id": "73e3cc4e-14c6-458c-b7e3-8d09e519937e",
   "metadata": {},
   "outputs": [],
   "source": [
    "import pandas as pd\n",
    "import numpy as np"
   ]
  },
  {
   "cell_type": "markdown",
   "id": "1773f5a6",
   "metadata": {},
   "source": [
    "**Q. 1**"
   ]
  },
  {
   "cell_type": "code",
   "execution_count": 2,
   "id": "89d46cc7-948b-4790-a584-76d7864b564a",
   "metadata": {},
   "outputs": [
    {
     "name": "stdout",
     "output_type": "stream",
     "text": [
      "Version of Pandas: 2.2.2\n"
     ]
    }
   ],
   "source": [
    "print(f\"Version of Pandas: {pd.__version__}\")"
   ]
  },
  {
   "cell_type": "markdown",
   "id": "b570767f",
   "metadata": {},
   "source": [
    "**Q. 2**"
   ]
  },
  {
   "cell_type": "code",
   "execution_count": 3,
   "id": "a4674f6f-e955-409c-a1a2-78d5bd86bd96",
   "metadata": {},
   "outputs": [
    {
     "name": "stdout",
     "output_type": "stream",
     "text": [
      "2160\n"
     ]
    }
   ],
   "source": [
    "data = pd.read_csv('laptops.csv')\n",
    "# print number of records\n",
    "print(len(data))"
   ]
  },
  {
   "cell_type": "markdown",
   "id": "ccd518c7",
   "metadata": {},
   "source": [
    "**Q. 3**"
   ]
  },
  {
   "cell_type": "code",
   "execution_count": 4,
   "id": "ca4bd671",
   "metadata": {},
   "outputs": [
    {
     "name": "stdout",
     "output_type": "stream",
     "text": [
      "27\n"
     ]
    }
   ],
   "source": [
    "#  print number of types of laptops\n",
    "print(len(data['Brand'].value_counts()))"
   ]
  },
  {
   "cell_type": "markdown",
   "id": "f5bdcab3",
   "metadata": {},
   "source": [
    "**Q.4** "
   ]
  },
  {
   "cell_type": "code",
   "execution_count": 5,
   "id": "fd6edbbc",
   "metadata": {},
   "outputs": [
    {
     "name": "stdout",
     "output_type": "stream",
     "text": [
      "Laptop             0\n",
      "Status             0\n",
      "Brand              0\n",
      "Model              0\n",
      "CPU                0\n",
      "RAM                0\n",
      "Storage            0\n",
      "Storage type      42\n",
      "GPU             1371\n",
      "Screen             4\n",
      "Touch              0\n",
      "Final Price        0\n",
      "dtype: int64\n"
     ]
    }
   ],
   "source": [
    "print(data.isnull().sum())"
   ]
  },
  {
   "cell_type": "markdown",
   "id": "d95f0ea8",
   "metadata": {},
   "source": [
    "**Q. 5**"
   ]
  },
  {
   "cell_type": "code",
   "execution_count": 6,
   "id": "4b8b4279",
   "metadata": {},
   "outputs": [
    {
     "name": "stdout",
     "output_type": "stream",
     "text": [
      "3936.0\n"
     ]
    }
   ],
   "source": [
    "print(data.groupby(\"Brand\")[\"Final Price\"].max()['Dell'])"
   ]
  },
  {
   "cell_type": "markdown",
   "id": "4238197f",
   "metadata": {},
   "source": [
    "**Q. 6**"
   ]
  },
  {
   "cell_type": "code",
   "execution_count": 7,
   "id": "69f01477",
   "metadata": {},
   "outputs": [
    {
     "name": "stdout",
     "output_type": "stream",
     "text": [
      "15.6\n"
     ]
    }
   ],
   "source": [
    "print(data['Screen'].median()) # median"
   ]
  },
  {
   "cell_type": "markdown",
   "id": "c8ea25d9",
   "metadata": {},
   "source": [
    "Most frequent value"
   ]
  },
  {
   "cell_type": "code",
   "execution_count": 8,
   "id": "77963654",
   "metadata": {},
   "outputs": [
    {
     "name": "stdout",
     "output_type": "stream",
     "text": [
      "0    15.6\n",
      "Name: Screen, dtype: float64\n"
     ]
    }
   ],
   "source": [
    "most_freq = data['Screen'].mode()\n",
    "print(most_freq) # most common screen size"
   ]
  },
  {
   "cell_type": "code",
   "execution_count": 9,
   "id": "13bf4323",
   "metadata": {},
   "outputs": [
    {
     "name": "stdout",
     "output_type": "stream",
     "text": [
      "15.6\n"
     ]
    }
   ],
   "source": [
    "filled_data = data['Screen'].fillna(most_freq)\n",
    "print(filled_data.median())"
   ]
  },
  {
   "cell_type": "markdown",
   "id": "d8bf00a4",
   "metadata": {},
   "source": [
    "**Q. 7**"
   ]
  },
  {
   "cell_type": "code",
   "execution_count": 10,
   "id": "b5174bcc",
   "metadata": {},
   "outputs": [
    {
     "name": "stdout",
     "output_type": "stream",
     "text": [
      "                                                 Laptop Status   Brand Model  \\\n",
      "1478  InnJoo Voom Excellence Intel Celeron N4020/8GB...    New  Innjoo  Voom   \n",
      "1479  InnJoo Voom Excellence Pro Intel Celeron N4020...    New  Innjoo  Voom   \n",
      "1480  Innjoo Voom Intel Celeron N3350/4GB/64GB eMMC/...    New  Innjoo  Voom   \n",
      "1481  Innjoo Voom Laptop Max Intel Celeron N3350/6GB...    New  Innjoo  Voom   \n",
      "1482  Innjoo Voom Laptop Pro Intel Celeron N3350/6GB...    New  Innjoo  Voom   \n",
      "1483  Innjoo Voom Pro Intel Celeron N3350/6GB/128GB ...    New  Innjoo  Voom   \n",
      "\n",
      "                CPU  RAM  Storage Storage type  GPU  Screen Touch  Final Price  \n",
      "1478  Intel Celeron    8      256          SSD  NaN    15.6    No       311.37  \n",
      "1479  Intel Celeron    8      512          SSD  NaN    15.6    No       392.55  \n",
      "1480  Intel Celeron    4       64         eMMC  NaN    14.1    No       251.40  \n",
      "1481  Intel Celeron    6       64         eMMC  NaN    14.1    No       383.61  \n",
      "1482  Intel Celeron    6      128          SSD  NaN    14.1    No       317.02  \n",
      "1483  Intel Celeron    6      128         eMMC  NaN    14.1    No       431.38  \n"
     ]
    }
   ],
   "source": [
    "print(data[data['Brand'] == 'Innjoo']) # laptops of brand Innjoo\n"
   ]
  },
  {
   "cell_type": "markdown",
   "id": "a411ea26",
   "metadata": {},
   "source": []
  },
  {
   "cell_type": "code",
   "execution_count": 11,
   "id": "418b3fe4",
   "metadata": {},
   "outputs": [
    {
     "name": "stdout",
     "output_type": "stream",
     "text": [
      "      RAM  Storage  Screen\n",
      "1478    8      256    15.6\n",
      "1479    8      512    15.6\n",
      "1480    4       64    14.1\n",
      "1481    6       64    14.1\n",
      "1482    6      128    14.1\n",
      "1483    6      128    14.1\n"
     ]
    }
   ],
   "source": [
    "print(data[data['Brand'] == 'Innjoo'][[\"RAM\",\"Storage\",\"Screen\"]]) # laptops of brand Innjoo with columns RAM, Storage, Screen"
   ]
  },
  {
   "cell_type": "code",
   "execution_count": 12,
   "id": "8ce3e04b",
   "metadata": {},
   "outputs": [
    {
     "name": "stdout",
     "output_type": "stream",
     "text": [
      "[[  8.  256.   15.6]\n",
      " [  8.  512.   15.6]\n",
      " [  4.   64.   14.1]\n",
      " [  6.   64.   14.1]\n",
      " [  6.  128.   14.1]\n",
      " [  6.  128.   14.1]]\n"
     ]
    }
   ],
   "source": [
    "X = data[data['Brand'] == 'Innjoo'][[\"RAM\",\"Storage\",\"Screen\"]].to_numpy()  # laptops of brand Innjoo with columns RAM, Storage, Screen as numpy array   \n",
    "print(X)"
   ]
  },
  {
   "cell_type": "code",
   "execution_count": 13,
   "id": "e173ccac",
   "metadata": {},
   "outputs": [
    {
     "name": "stdout",
     "output_type": "stream",
     "text": [
      "[[2.52000e+02 8.32000e+03 5.59800e+02]\n",
      " [8.32000e+03 3.68640e+05 1.73952e+04]\n",
      " [5.59800e+02 1.73952e+04 1.28196e+03]]\n"
     ]
    }
   ],
   "source": [
    "XTX = X.T.dot(X) # X transpose times X\n",
    "print(XTX)"
   ]
  },
  {
   "cell_type": "code",
   "execution_count": 14,
   "id": "ac4b3be9",
   "metadata": {},
   "outputs": [
    {
     "name": "stdout",
     "output_type": "stream",
     "text": [
      "[[ 2.78025381e-01 -1.51791334e-03 -1.00809855e-01]\n",
      " [-1.51791334e-03  1.58286725e-05  4.48052175e-04]\n",
      " [-1.00809855e-01  4.48052175e-04  3.87214888e-02]]\n"
     ]
    }
   ],
   "source": [
    "XTX_inv = np.linalg.inv(XTX) # inverse of XTX\n",
    "print(XTX_inv)"
   ]
  },
  {
   "cell_type": "code",
   "execution_count": 15,
   "id": "ceed02da",
   "metadata": {},
   "outputs": [],
   "source": [
    "y = np.array([1100, 1300, 800, 900, 1000, 1100])"
   ]
  },
  {
   "cell_type": "code",
   "execution_count": 16,
   "id": "fb1aed07",
   "metadata": {},
   "outputs": [
    {
     "name": "stdout",
     "output_type": "stream",
     "text": [
      "result: [45.58076606  0.42783519 45.29127938] with sum 91.2998806299557\n"
     ]
    }
   ],
   "source": [
    "result = XTX_inv.dot(X.T).dot(y) # (XTX)^-1 * XT * y\n",
    "print(f\"result: {result} with sum {result.sum()}\")"
   ]
  }
 ],
 "metadata": {
  "kernelspec": {
   "display_name": "ml-zoomcamp",
   "language": "python",
   "name": "python3"
  },
  "language_info": {
   "codemirror_mode": {
    "name": "ipython",
    "version": 3
   },
   "file_extension": ".py",
   "mimetype": "text/x-python",
   "name": "python",
   "nbconvert_exporter": "python",
   "pygments_lexer": "ipython3",
   "version": "3.9.19"
  }
 },
 "nbformat": 4,
 "nbformat_minor": 5
}
