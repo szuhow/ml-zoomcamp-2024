{
 "cells": [
  {
   "cell_type": "code",
   "execution_count": null,
   "id": "8621eb4c-7e26-4ab7-be25-70a38cb05d06",
   "metadata": {
    "execution": {
     "iopub.execute_input": "2024-11-28T18:53:48.148417Z",
     "iopub.status.busy": "2024-11-28T18:53:48.147978Z",
     "iopub.status.idle": "2024-11-28T18:53:48.154696Z",
     "shell.execute_reply": "2024-11-28T18:53:48.153866Z",
     "shell.execute_reply.started": "2024-11-28T18:53:48.148388Z"
    },
    "tags": []
   },
   "outputs": [],
   "source": [
    "import numpy as np\n",
    "import tensorflow as tf\n",
    "import tensorflow.lite as tflite\n"
   ]
  },
  {
   "cell_type": "markdown",
   "id": "53526b43",
   "metadata": {},
   "source": [
    "**Q. 1**"
   ]
  },
  {
   "cell_type": "code",
   "execution_count": 8,
   "id": "13e5c04b",
   "metadata": {},
   "outputs": [],
   "source": [
    "model = tf.keras.models.load_model('model_2024_hairstyle.keras')"
   ]
  },
  {
   "cell_type": "code",
   "execution_count": 9,
   "id": "140815a0",
   "metadata": {},
   "outputs": [
    {
     "name": "stdout",
     "output_type": "stream",
     "text": [
      "INFO:tensorflow:Assets written to: /var/folders/gp/j593vlkj0jjbz68g1hsn82wh0000gn/T/tmp9sh7o96r/assets\n"
     ]
    },
    {
     "name": "stderr",
     "output_type": "stream",
     "text": [
      "INFO:tensorflow:Assets written to: /var/folders/gp/j593vlkj0jjbz68g1hsn82wh0000gn/T/tmp9sh7o96r/assets\n"
     ]
    },
    {
     "name": "stdout",
     "output_type": "stream",
     "text": [
      "Saved artifact at '/var/folders/gp/j593vlkj0jjbz68g1hsn82wh0000gn/T/tmp9sh7o96r'. The following endpoints are available:\n",
      "\n",
      "* Endpoint 'serve'\n",
      "  args_0 (POSITIONAL_ONLY): TensorSpec(shape=(None, 200, 200, 3), dtype=tf.float32, name='input_layer')\n",
      "Output Type:\n",
      "  TensorSpec(shape=(None, 1), dtype=tf.float32, name=None)\n",
      "Captures:\n",
      "  11165936592: TensorSpec(shape=(), dtype=tf.resource, name=None)\n",
      "  11165938704: TensorSpec(shape=(), dtype=tf.resource, name=None)\n",
      "  11167204560: TensorSpec(shape=(), dtype=tf.resource, name=None)\n",
      "  11167204944: TensorSpec(shape=(), dtype=tf.resource, name=None)\n",
      "  10960294672: TensorSpec(shape=(), dtype=tf.resource, name=None)\n",
      "  10963030608: TensorSpec(shape=(), dtype=tf.resource, name=None)\n"
     ]
    },
    {
     "name": "stderr",
     "output_type": "stream",
     "text": [
      "WARNING: All log messages before absl::InitializeLog() is called are written to STDERR\n",
      "W0000 00:00:1733481600.052902   12004 tf_tfl_flatbuffer_helpers.cc:365] Ignored output_format.\n",
      "W0000 00:00:1733481600.053125   12004 tf_tfl_flatbuffer_helpers.cc:368] Ignored drop_control_dependency.\n",
      "2024-12-06 11:40:00.055041: I tensorflow/cc/saved_model/reader.cc:83] Reading SavedModel from: /var/folders/gp/j593vlkj0jjbz68g1hsn82wh0000gn/T/tmp9sh7o96r\n",
      "2024-12-06 11:40:00.055379: I tensorflow/cc/saved_model/reader.cc:52] Reading meta graph with tags { serve }\n",
      "2024-12-06 11:40:00.055384: I tensorflow/cc/saved_model/reader.cc:147] Reading SavedModel debug info (if present) from: /var/folders/gp/j593vlkj0jjbz68g1hsn82wh0000gn/T/tmp9sh7o96r\n",
      "I0000 00:00:1733481600.058873   12004 mlir_graph_optimization_pass.cc:401] MLIR V1 optimization pass is not enabled\n",
      "2024-12-06 11:40:00.059504: I tensorflow/cc/saved_model/loader.cc:236] Restoring SavedModel bundle.\n",
      "2024-12-06 11:40:00.165173: I tensorflow/cc/saved_model/loader.cc:220] Running initialization op on SavedModel bundle at path: /var/folders/gp/j593vlkj0jjbz68g1hsn82wh0000gn/T/tmp9sh7o96r\n",
      "2024-12-06 11:40:00.172152: I tensorflow/cc/saved_model/loader.cc:466] SavedModel load for tags { serve }; Status: success: OK. Took 117113 microseconds.\n",
      "2024-12-06 11:40:00.202401: I tensorflow/compiler/mlir/tensorflow/utils/dump_mlir_util.cc:268] disabling MLIR crash reproducer, set env var `MLIR_CRASH_REPRODUCER_DIRECTORY` to enable.\n"
     ]
    }
   ],
   "source": [
    "converter = tf.lite.TFLiteConverter.from_keras_model(model)\n",
    "tflite_model = converter.convert()"
   ]
  },
  {
   "cell_type": "code",
   "execution_count": null,
   "id": "00c9b4c6",
   "metadata": {},
   "outputs": [],
   "source": [
    "with open('model_2024_hairstyle_v2.tflite', 'wb') as f:     \n",
    "  f.write(tflite_model)"
   ]
  },
  {
   "cell_type": "code",
   "execution_count": 22,
   "id": "02531042",
   "metadata": {},
   "outputs": [
    {
     "name": "stdout",
     "output_type": "stream",
     "text": [
      "total 470544\n",
      "-rw-r--r--  1 rafalszulinski  staff       7918 Dec  6 11:16 HomeWork9.ipynb\n",
      "-rw-r--r--  1 rafalszulinski  staff   80296588 Dec  6 11:40 converted_model.tflite\n",
      "-rw-r--r--  1 rafalszulinski  staff  160610502 Dec  6 10:08 model_2024_hairstyle.keras\n"
     ]
    }
   ],
   "source": [
    "!ls -l "
   ]
  },
  {
   "cell_type": "markdown",
   "id": "bc01ad11",
   "metadata": {},
   "source": [
    "**Q. 2**"
   ]
  },
  {
   "cell_type": "code",
   "execution_count": null,
   "id": "a386e041",
   "metadata": {},
   "outputs": [],
   "source": [
    "interpreter = tf.lite.Interpreter(model_path=\"model_2024_hairstyle_v2.tflite\")"
   ]
  },
  {
   "cell_type": "code",
   "execution_count": 16,
   "id": "2797da32",
   "metadata": {},
   "outputs": [],
   "source": [
    "interpreter.allocate_tensors()"
   ]
  },
  {
   "cell_type": "code",
   "execution_count": 18,
   "id": "2495ddf8",
   "metadata": {},
   "outputs": [
    {
     "data": {
      "text/plain": [
       "[{'name': 'serving_default_input_layer:0',\n",
       "  'index': 0,\n",
       "  'shape': array([  1, 200, 200,   3], dtype=int32),\n",
       "  'shape_signature': array([ -1, 200, 200,   3], dtype=int32),\n",
       "  'dtype': numpy.float32,\n",
       "  'quantization': (0.0, 0),\n",
       "  'quantization_parameters': {'scales': array([], dtype=float32),\n",
       "   'zero_points': array([], dtype=int32),\n",
       "   'quantized_dimension': 0},\n",
       "  'sparsity_parameters': {}}]"
      ]
     },
     "execution_count": 18,
     "metadata": {},
     "output_type": "execute_result"
    }
   ],
   "source": [
    "input_index = interpreter.get_input_details()\n",
    "input_index"
   ]
  },
  {
   "cell_type": "code",
   "execution_count": 19,
   "id": "abbeb5ab",
   "metadata": {},
   "outputs": [],
   "source": [
    "output_index = interpreter.get_output_details()"
   ]
  },
  {
   "cell_type": "code",
   "execution_count": 20,
   "id": "8bf9e077",
   "metadata": {},
   "outputs": [
    {
     "data": {
      "text/plain": [
       "[{'name': 'StatefulPartitionedCall_1:0',\n",
       "  'index': 13,\n",
       "  'shape': array([1, 1], dtype=int32),\n",
       "  'shape_signature': array([-1,  1], dtype=int32),\n",
       "  'dtype': numpy.float32,\n",
       "  'quantization': (0.0, 0),\n",
       "  'quantization_parameters': {'scales': array([], dtype=float32),\n",
       "   'zero_points': array([], dtype=int32),\n",
       "   'quantized_dimension': 0},\n",
       "  'sparsity_parameters': {}}]"
      ]
     },
     "execution_count": 20,
     "metadata": {},
     "output_type": "execute_result"
    }
   ],
   "source": [
    "output_index"
   ]
  },
  {
   "cell_type": "markdown",
   "id": "9ee8fb90",
   "metadata": {},
   "source": [
    "Answer: output index is 13"
   ]
  },
  {
   "cell_type": "code",
   "execution_count": 13,
   "id": "fb99991e",
   "metadata": {},
   "outputs": [],
   "source": [
    "interpreter.invoke()"
   ]
  },
  {
   "cell_type": "markdown",
   "id": "dc84d5bd",
   "metadata": {},
   "source": [
    "**Q. 3**"
   ]
  },
  {
   "cell_type": "code",
   "execution_count": 23,
   "id": "cba10cdb",
   "metadata": {},
   "outputs": [],
   "source": [
    "from io import BytesIO\n",
    "from urllib import request\n",
    "\n",
    "from PIL import Image\n",
    "\n",
    "def download_image(url):\n",
    "    with request.urlopen(url) as resp:\n",
    "        buffer = resp.read()\n",
    "    stream = BytesIO(buffer)\n",
    "    img = Image.open(stream)\n",
    "    return img\n",
    "\n",
    "\n",
    "def prepare_image(img, target_size):\n",
    "    if img.mode != 'RGB':\n",
    "        img = img.convert('RGB')\n",
    "    img = img.resize(target_size, Image.NEAREST)\n",
    "    return img"
   ]
  },
  {
   "cell_type": "code",
   "execution_count": 24,
   "id": "bbed800e",
   "metadata": {},
   "outputs": [],
   "source": [
    "path = \"https://habrastorage.org/webt/yf/_d/ok/yf_dokzqy3vcritme8ggnzqlvwa.jpeg\""
   ]
  },
  {
   "cell_type": "code",
   "execution_count": 25,
   "id": "bd4b4750",
   "metadata": {},
   "outputs": [],
   "source": [
    "img = download_image(path)\n",
    "img = prepare_image(img, (200, 200))"
   ]
  },
  {
   "cell_type": "code",
   "execution_count": 26,
   "id": "7bb34c4a",
   "metadata": {},
   "outputs": [],
   "source": [
    "ar = np.array(img)"
   ]
  },
  {
   "cell_type": "code",
   "execution_count": 30,
   "id": "3c321710",
   "metadata": {},
   "outputs": [],
   "source": [
    "datagen = tf.keras.preprocessing.image.ImageDataGenerator(\n",
    "    rescale=1./255\n",
    ")\n",
    "to_predict = datagen.flow(np.array([ar]))"
   ]
  },
  {
   "cell_type": "code",
   "execution_count": 32,
   "id": "0db7ce1a",
   "metadata": {},
   "outputs": [
    {
     "data": {
      "text/plain": [
       "array([[[[0.2392157 , 0.40784317, 0.08627451],\n",
       "         [0.25490198, 0.43137258, 0.1137255 ],\n",
       "         [0.24705884, 0.43137258, 0.1254902 ],\n",
       "         ...,\n",
       "         [0.2392157 , 0.34117648, 0.        ],\n",
       "         [0.2392157 , 0.34901962, 0.01960784],\n",
       "         [0.20784315, 0.3137255 , 0.00392157]],\n",
       "\n",
       "        [[0.24313727, 0.41176474, 0.10196079],\n",
       "         [0.2509804 , 0.41960788, 0.10980393],\n",
       "         [0.25490198, 0.41960788, 0.12156864],\n",
       "         ...,\n",
       "         [0.2509804 , 0.34117648, 0.        ],\n",
       "         [0.24313727, 0.33333334, 0.01176471],\n",
       "         [0.21568629, 0.32156864, 0.01960784]],\n",
       "\n",
       "        [[0.26666668, 0.43921572, 0.13725491],\n",
       "         [0.2627451 , 0.427451  , 0.12941177],\n",
       "         [0.27450982, 0.42352945, 0.12941177],\n",
       "         ...,\n",
       "         [0.2509804 , 0.34901962, 0.03137255],\n",
       "         [0.23137257, 0.32156864, 0.01568628],\n",
       "         [0.20392159, 0.29803923, 0.        ]],\n",
       "\n",
       "        ...,\n",
       "\n",
       "        [[0.10196079, 0.20000002, 0.04313726],\n",
       "         [0.10196079, 0.20000002, 0.04313726],\n",
       "         [0.13725491, 0.2392157 , 0.05490196],\n",
       "         ...,\n",
       "         [0.882353  , 0.9176471 , 0.91372555],\n",
       "         [0.86274517, 0.8980393 , 0.8941177 ],\n",
       "         [0.8941177 , 0.9294118 , 0.92549026]],\n",
       "\n",
       "        [[0.10196079, 0.18823531, 0.03921569],\n",
       "         [0.10588236, 0.20392159, 0.03921569],\n",
       "         [0.10980393, 0.21176472, 0.02745098],\n",
       "         ...,\n",
       "         [0.8705883 , 0.9058824 , 0.90196085],\n",
       "         [0.85098046, 0.8980393 , 0.89019614],\n",
       "         [0.8745099 , 0.9215687 , 0.91372555]],\n",
       "\n",
       "        [[0.10980393, 0.18823531, 0.04313726],\n",
       "         [0.09019608, 0.18823531, 0.03137255],\n",
       "         [0.10196079, 0.20000002, 0.04313726],\n",
       "         ...,\n",
       "         [0.87843144, 0.91372555, 0.909804  ],\n",
       "         [0.882353  , 0.9215687 , 0.9176471 ],\n",
       "         [0.8705883 , 0.9176471 , 0.909804  ]]]], dtype=float32)"
      ]
     },
     "execution_count": 32,
     "metadata": {},
     "output_type": "execute_result"
    }
   ],
   "source": [
    "to_predict[0]"
   ]
  },
  {
   "cell_type": "code",
   "execution_count": null,
   "id": "daccdf68",
   "metadata": {},
   "outputs": [],
   "source": []
  }
 ],
 "metadata": {
  "kernelspec": {
   "display_name": "ml",
   "language": "python",
   "name": "python3"
  },
  "language_info": {
   "codemirror_mode": {
    "name": "ipython",
    "version": 3
   },
   "file_extension": ".py",
   "mimetype": "text/x-python",
   "name": "python",
   "nbconvert_exporter": "python",
   "pygments_lexer": "ipython3",
   "version": "3.11.9"
  }
 },
 "nbformat": 4,
 "nbformat_minor": 5
}
